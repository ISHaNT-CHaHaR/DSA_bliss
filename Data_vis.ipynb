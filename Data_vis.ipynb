{
  "nbformat": 4,
  "nbformat_minor": 0,
  "metadata": {
    "colab": {
      "name": "Data_vis.ipynb",
      "provenance": [],
      "collapsed_sections": [],
      "authorship_tag": "ABX9TyP5e74Jhk3kB7NzcTfyszh4",
      "include_colab_link": true
    },
    "kernelspec": {
      "name": "python3",
      "display_name": "Python 3"
    },
    "language_info": {
      "name": "python"
    }
  },
  "cells": [
    {
      "cell_type": "markdown",
      "metadata": {
        "id": "view-in-github",
        "colab_type": "text"
      },
      "source": [
        "<a href=\"https://colab.research.google.com/github/ISHaNT-CHaHaR/DSA_bliss/blob/master/Data_vis.ipynb\" target=\"_parent\"><img src=\"https://colab.research.google.com/assets/colab-badge.svg\" alt=\"Open In Colab\"/></a>"
      ]
    },
    {
      "cell_type": "code",
      "source": [
        "from google.colab import drive\n",
        "drive.mount('/content/drive')\n"
      ],
      "metadata": {
        "colab": {
          "base_uri": "https://localhost:8080/"
        },
        "id": "MgmVVoBMRxjK",
        "outputId": "7848accd-b1bb-43c6-fe11-610f7bc4cc65"
      },
      "execution_count": null,
      "outputs": [
        {
          "output_type": "stream",
          "name": "stdout",
          "text": [
            "Mounted at /content/drive\n"
          ]
        }
      ]
    },
    {
      "cell_type": "markdown",
      "source": [
        "It connects my google drive with colab, Now I can access data from drive to use in Colab"
      ],
      "metadata": {
        "id": "bCBi9QEqYhxU"
      }
    },
    {
      "cell_type": "code",
      "source": [
        "import pandas as pd\n",
        "path = \"/content/sample_data/california_housing_test.csv\"\n",
        "df = pd.read_csv(path)\n",
        "df.head(10)\n"
      ],
      "metadata": {
        "id": "JTW0pMijYtxm"
      },
      "execution_count": null,
      "outputs": []
    },
    {
      "cell_type": "markdown",
      "source": [
        "I will work on this dataset or some other by w3schools while working on matplotlib\n"
      ],
      "metadata": {
        "id": "oYAAymdkT32M"
      }
    },
    {
      "cell_type": "code",
      "source": [
        "import matplotlib\n",
        "print(matplotlib.__version__)"
      ],
      "metadata": {
        "colab": {
          "base_uri": "https://localhost:8080/"
        },
        "id": "KRCnhoF_UAZY",
        "outputId": "b5ff6ac7-ecc4-4406-9b9a-718a1664f109"
      },
      "execution_count": 1,
      "outputs": [
        {
          "output_type": "stream",
          "name": "stdout",
          "text": [
            "3.2.2\n"
          ]
        }
      ]
    },
    {
      "cell_type": "code",
      "source": [
        "#PYPLOT\n",
        "import matplotlib.pyplot as plt\n",
        "import numpy as np\n",
        "xpoints = np.array([0,5])\n",
        "ypoints = np.array([0,25])\n",
        "\n",
        "plt.plot(xpoints, ypoints)\n",
        "\n",
        "plt.show()"
      ],
      "metadata": {
        "id": "-E9IIW9UURqj"
      },
      "execution_count": null,
      "outputs": []
    },
    {
      "cell_type": "markdown",
      "source": [
        "The plot() function is used to draw points (markers) in a diagram.\n",
        "\n",
        "By default, the plot() function draws a line from point to point.\n",
        "\n",
        "The function takes parameters for specifying points in the diagram.\n",
        "\n",
        "Parameter 1 is an array containing the points on the x-axis.\n",
        "\n",
        "Parameter 2 is an array containing the points on the y-axis.\n",
        "\n",
        "If we need to plot a line from (1, 3) to (8, 10), we have to pass two arrays [1, 8] and [3, 10] to the plot function."
      ],
      "metadata": {
        "id": "7lDk5iqPUy3I"
      }
    },
    {
      "cell_type": "code",
      "source": [
        "import matplotlib.pyplot as plt\n",
        "import numpy as np\n",
        "xpoints = np.array([0,25])\n",
        "ypoints = np.array([0,25])\n",
        "\n",
        "#plot without line \n",
        "plt.plot(xpoints, ypoints, 'o')\n",
        "\n",
        "plt.show()"
      ],
      "metadata": {
        "id": "L2tho4CuUz6C"
      },
      "execution_count": null,
      "outputs": []
    },
    {
      "cell_type": "markdown",
      "source": [
        "As I extend the array, I can plot line at different points. \n"
      ],
      "metadata": {
        "id": "Iur3PODzVeQ6"
      }
    },
    {
      "cell_type": "code",
      "source": [
        "import matplotlib.pyplot as plt\n",
        "import numpy as np\n",
        "xpoints = np.array([0,2,4,8,10])\n",
        "ypoints = np.array([2,5,10,15,20])\n",
        "\n",
        "plt.plot(xpoints,ypoints, marker = 's') ## Majorly I must assign y-points because X can be 1,2,3,4,5 by default\n",
        "plt.show()"
      ],
      "metadata": {
        "id": "xMtsTguwVk1S"
      },
      "execution_count": null,
      "outputs": []
    },
    {
      "cell_type": "markdown",
      "source": [
        "You can use also use the shortcut string notation parameter to specify the marker.\n",
        "\n",
        "This parameter is also called fmt, and is written with this syntax:\n",
        "\n",
        "marker|line|color\n",
        "\n",
        "Line Syntax\tDescription\n",
        "'-'\tSolid line\t\n",
        "':'\tDotted line\t\n",
        "'--'\tDashed line\t\n",
        "'-.'\tDashed/dotted line\n",
        "\n",
        "\n",
        "Color Syntax\tDescription\n",
        "'r'\tRed\t\n",
        "'g'\tGreen\t\n",
        "'b'\tBlue\t\n",
        "'c'\tCyan\t\n",
        "'m'\tMagenta\t\n",
        "'y'\tYellow\t\n",
        "'k'\tBlack\t\n",
        "'w'\tWhite\n",
        "\n",
        "Marker Size\n",
        "You can use the keyword argument markersize or the shorter version, ms to set the size of the markers:\n",
        "\n",
        "Marker Color\n",
        "You can use the keyword argument markeredgecolor or the shorter mec to set the color of the edge of the markers:\n",
        "\n",
        "You can use the keyword argument markerfacecolor or the shorter mfc to set the color inside the edge of the markers:"
      ],
      "metadata": {
        "id": "y4jsQWWWXmPq"
      }
    },
    {
      "cell_type": "code",
      "source": [
        "import matplotlib.pyplot as plt\n",
        "import numpy as np\n",
        "xpoints = np.array([0,2,4,8,10])\n",
        "ypoints = np.array([2,5,10,15,20])\n",
        "\n",
        "#plt.plot(xpoints,ypoints, 's-.m') \n",
        "plt.plot(xpoints, ypoints, marker = 'o',ms = 10, mfc = 'pink')\n",
        "# plt.plot(xpoints, ypoints, 's:c')\n",
        "plt.show()\n"
      ],
      "metadata": {
        "id": "W-WqMiJUXnE0"
      },
      "execution_count": null,
      "outputs": []
    },
    {
      "cell_type": "markdown",
      "source": [
        "Line Styles\n",
        "You can choose any of these styles:\n",
        "'solid' (default)\t'-'\t\n",
        "'dotted'\t':'\t\n",
        "'dashed'\t'--'\t\n",
        "'dashdot'\t'-.'\t\n",
        "'None'\t'' or ' '"
      ],
      "metadata": {
        "id": "DyTNatP_Xvkv"
      }
    },
    {
      "cell_type": "code",
      "source": [
        "import matplotlib.pyplot as plt\n",
        "import numpy as np\n",
        "xpoints = np.array([0,2,4,8,10])\n",
        "ypoints = np.array([2,5,10,15,20])\n",
        "\n",
        "# plt.plot(xpoints,ypoints, linestyle = 'dotted')\n",
        "# or\n",
        "plt.plot(xpoints,ypoints, ls = ':')\n",
        "plt.show()"
      ],
      "metadata": {
        "colab": {
          "base_uri": "https://localhost:8080/",
          "height": 265
        },
        "id": "HA6x8K2ehRXb",
        "outputId": "3073f2ef-3056-4f44-dd9a-2b13c6416853"
      },
      "execution_count": 42,
      "outputs": [
        {
          "output_type": "display_data",
          "data": {
            "text/plain": [
              "<Figure size 432x288 with 1 Axes>"
            ],
            "image/png": "[encoded data removed]"
          },
          "metadata": {
            "needs_background": "light"
          }
        }
      ]
    }
  ]
}