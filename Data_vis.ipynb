{
  "nbformat": 4,
  "nbformat_minor": 0,
  "metadata": {
    "colab": {
      "name": "Data_vis.ipynb",
      "provenance": [],
      "collapsed_sections": [],
      "authorship_tag": "ABX9TyNly9F1kmKELW4mk9MDky4E",
      "include_colab_link": true
    },
    "kernelspec": {
      "name": "python3",
      "display_name": "Python 3"
    },
    "language_info": {
      "name": "python"
    }
  },
  "cells": [
    {
      "cell_type": "markdown",
      "metadata": {
        "id": "view-in-github",
        "colab_type": "text"
      },
      "source": [
        "<a href=\"https://colab.research.google.com/github/ISHaNT-CHaHaR/DSA_bliss/blob/master/Data_vis.ipynb\" target=\"_parent\"><img src=\"https://colab.research.google.com/assets/colab-badge.svg\" alt=\"Open In Colab\"/></a>"
      ]
    },
    {
      "cell_type": "code",
      "source": [
        "from google.colab import drive\n",
        "drive.mount('/content/drive')\n"
      ],
      "metadata": {
        "colab": {
          "base_uri": "https://localhost:8080/"
        },
        "id": "MgmVVoBMRxjK",
        "outputId": "7848accd-b1bb-43c6-fe11-610f7bc4cc65"
      },
      "execution_count": null,
      "outputs": [
        {
          "output_type": "stream",
          "name": "stdout",
          "text": [
            "Mounted at /content/drive\n"
          ]
        }
      ]
    },
    {
      "cell_type": "markdown",
      "source": [
        "It connects my google drive with colab, Now I can access data from drive to use in Colab"
      ],
      "metadata": {
        "id": "bCBi9QEqYhxU"
      }
    },
    {
      "cell_type": "code",
      "source": [
        "import pandas as pd\n",
        "path = \"/content/sample_data/california_housing_test.csv\"\n",
        "df = pd.read_csv(path)\n",
        "df.head(10)\n"
      ],
      "metadata": {
        "id": "JTW0pMijYtxm"
      },
      "execution_count": null,
      "outputs": []
    },
    {
      "cell_type": "markdown",
      "source": [
        "I will work on this dataset or some other by w3schools while working on matplotlib\n"
      ],
      "metadata": {
        "id": "oYAAymdkT32M"
      }
    },
    {
      "cell_type": "code",
      "source": [
        "import matplotlib\n",
        "print(matplotlib.__version__)"
      ],
      "metadata": {
        "colab": {
          "base_uri": "https://localhost:8080/"
        },
        "id": "KRCnhoF_UAZY",
        "outputId": "b5ff6ac7-ecc4-4406-9b9a-718a1664f109"
      },
      "execution_count": 1,
      "outputs": [
        {
          "output_type": "stream",
          "name": "stdout",
          "text": [
            "3.2.2\n"
          ]
        }
      ]
    },
    {
      "cell_type": "code",
      "source": [
        "#PYPLOT\n",
        "import matplotlib.pyplot as plt\n",
        "import numpy as np\n",
        "xpoints = np.array([0,5])\n",
        "ypoints = np.array([0,25])\n",
        "\n",
        "plt.plot(xpoints, ypoints)\n",
        "\n",
        "plt.show()"
      ],
      "metadata": {
        "id": "-E9IIW9UURqj"
      },
      "execution_count": null,
      "outputs": []
    },
    {
      "cell_type": "markdown",
      "source": [
        "The plot() function is used to draw points (markers) in a diagram.\n",
        "\n",
        "By default, the plot() function draws a line from point to point.\n",
        "\n",
        "The function takes parameters for specifying points in the diagram.\n",
        "\n",
        "Parameter 1 is an array containing the points on the x-axis.\n",
        "\n",
        "Parameter 2 is an array containing the points on the y-axis.\n",
        "\n",
        "If we need to plot a line from (1, 3) to (8, 10), we have to pass two arrays [1, 8] and [3, 10] to the plot function."
      ],
      "metadata": {
        "id": "7lDk5iqPUy3I"
      }
    },
    {
      "cell_type": "code",
      "source": [
        "import matplotlib.pyplot as plt\n",
        "import numpy as np\n",
        "xpoints = np.array([0,25])\n",
        "ypoints = np.array([0,25])\n",
        "\n",
        "#plot without line \n",
        "plt.plot(xpoints, ypoints, 'o')\n",
        "\n",
        "plt.show()"
      ],
      "metadata": {
        "id": "L2tho4CuUz6C"
      },
      "execution_count": null,
      "outputs": []
    },
    {
      "cell_type": "markdown",
      "source": [
        "As I extend the array, I can plot line at different points. \n"
      ],
      "metadata": {
        "id": "Iur3PODzVeQ6"
      }
    },
    {
      "cell_type": "code",
      "source": [
        "import matplotlib.pyplot as plt\n",
        "import numpy as np\n",
        "xpoints = np.array([0,2,4,8,10])\n",
        "ypoints = np.array([2,5,10,15,20])\n",
        "\n",
        "plt.plot(xpoints,ypoints, marker = 's') ## Majorly I must assign y-points because X can be 1,2,3,4,5 by default\n",
        "plt.show()"
      ],
      "metadata": {
        "id": "xMtsTguwVk1S"
      },
      "execution_count": null,
      "outputs": []
    },
    {
      "cell_type": "markdown",
      "source": [
        "You can use also use the shortcut string notation parameter to specify the marker.\n",
        "\n",
        "This parameter is also called fmt, and is written with this syntax:\n",
        "\n",
        "marker|line|color\n",
        "\n",
        "Line Syntax\tDescription\n",
        "'-'\tSolid line\t\n",
        "':'\tDotted line\t\n",
        "'--'\tDashed line\t\n",
        "'-.'\tDashed/dotted line\n",
        "\n",
        "\n",
        "Color Syntax\tDescription\n",
        "'r'\tRed\t\n",
        "'g'\tGreen\t\n",
        "'b'\tBlue\t\n",
        "'c'\tCyan\t\n",
        "'m'\tMagenta\t\n",
        "'y'\tYellow\t\n",
        "'k'\tBlack\t\n",
        "'w'\tWhite\n",
        "\n",
        "Marker Size\n",
        "You can use the keyword argument markersize or the shorter version, ms to set the size of the markers:\n",
        "\n",
        "Marker Color\n",
        "You can use the keyword argument markeredgecolor or the shorter mec to set the color of the edge of the markers:\n",
        "\n",
        "You can use the keyword argument markerfacecolor or the shorter mfc to set the color inside the edge of the markers:"
      ],
      "metadata": {
        "id": "y4jsQWWWXmPq"
      }
    },
    {
      "cell_type": "code",
      "source": [
        "import matplotlib.pyplot as plt\n",
        "import numpy as np\n",
        "xpoints = np.array([0,2,4,8,10])\n",
        "ypoints = np.array([2,5,10,15,20])\n",
        "\n",
        "#plt.plot(xpoints,ypoints, 's-.m') \n",
        "plt.plot(xpoints, ypoints, marker = 'o',ms = 10, mfc = 'pink')\n",
        "# plt.plot(xpoints, ypoints, 's:c')\n",
        "plt.show()\n"
      ],
      "metadata": {
        "id": "W-WqMiJUXnE0"
      },
      "execution_count": null,
      "outputs": []
    },
    {
      "cell_type": "markdown",
      "source": [
        "Line Styles\n",
        "You can choose any of these styles:\n",
        "'solid' (default)\t'-'\t\n",
        "'dotted'\t':'\t\n",
        "'dashed'\t'--'\t\n",
        "'dashdot'\t'-.'\t\n",
        "'None'\t'' or ' '"
      ],
      "metadata": {
        "id": "DyTNatP_Xvkv"
      }
    },
    {
      "cell_type": "code",
      "source": [
        "import matplotlib.pyplot as plt\n",
        "import numpy as np\n",
        "xpoints = np.array([0,2,4,8,10])\n",
        "ypoints = np.array([2,5,10,15,20])\n",
        "\n",
        "# plt.plot(xpoints,ypoints, linestyle = 'dotted')\n",
        "# or\n",
        "plt.plot(xpoints,ypoints, ls = 'dashed', color = 'pink', marker = 's', ms = 15, mfc = 'c')\n",
        "plt.show()"
      ],
      "metadata": {
        "id": "HA6x8K2ehRXb"
      },
      "execution_count": null,
      "outputs": []
    },
    {
      "cell_type": "markdown",
      "source": [
        "Line Width\n",
        "You can use the keyword argument linewidth or the shorter lw to change the width of the line.\n",
        "\n",
        "The value is a floating number, in points:"
      ],
      "metadata": {
        "id": "9Q-WoG5njWKy"
      }
    },
    {
      "cell_type": "code",
      "source": [
        "import matplotlib.pyplot as plt\n",
        "import numpy as np\n",
        "xpoints = np.array([0,2,4,8,10])\n",
        "ypoints = np.array([2,5,10,15,20])\n",
        "\n",
        "# plt.plot(xpoints,ypoints, linestyle = 'dotted')\n",
        "# or\n",
        "plt.plot(xpoints,ypoints, color =  'pink',linewidth = 5, marker = 's', ms = 20 , mfc = 'c')\n",
        "plt.show()"
      ],
      "metadata": {
        "id": "DU5fQJQcjXO0"
      },
      "execution_count": null,
      "outputs": []
    },
    {
      "cell_type": "markdown",
      "source": [
        "You can also plot many lines by adding the points for the x- and y-axis for each line in the same plt.plot() function.\n",
        "\n",
        "(In the examples above we only specified the points on the y-axis, meaning that the points on the x-axis got the the default values (0, 1, 2, 3).)\n",
        "\n",
        "The x- and y- values come in pairs:"
      ],
      "metadata": {
        "id": "z0KEYTxykLqx"
      }
    },
    {
      "cell_type": "code",
      "source": [
        "import matplotlib.pyplot as plt\n",
        "import numpy as np\n",
        "xpoints = np.array([0,4,8,15,19])\n",
        "ypoints = np.array([2,5,10,15,20])\n",
        "\n",
        "x2 = np.array([1,4,13,7,24])\n",
        "y2 = np.array([3,7,11,15,23])\n",
        "\n",
        "plt.plot(xpoints,ypoints, x2,y2)\n",
        "plt.show()"
      ],
      "metadata": {
        "colab": {
          "base_uri": "https://localhost:8080/",
          "height": 265
        },
        "id": "F3NHHvlckMSE",
        "outputId": "dfd7a01b-d719-4b4c-ea45-79a7e937fdfb"
      },
      "execution_count": 58,
      "outputs": [
        {
          "output_type": "display_data",
          "data": {
            "text/plain": [
              "<Figure size 432x288 with 1 Axes>"
            ],
            "image/png": "[encoded data removed]"
          },
          "metadata": {
            "needs_background": "light"
          }
        }
      ]
    },
    {
      "cell_type": "markdown",
      "source": [
        "Create Labels for a Plot\n",
        "With Pyplot, you can use the xlabel() and ylabel() functions to set a label for the x- and y-axis."
      ],
      "metadata": {
        "id": "4Fl4o5nmlCCq"
      }
    },
    {
      "cell_type": "code",
      "source": [
        "import matplotlib.pyplot as plt\n",
        "import numpy as np\n",
        "xpoints = np.array([0,2,4,8,10])\n",
        "ypoints = np.array([2,5,10,15,20])\n",
        "\n",
        "# plt.plot(xpoints,ypoints)\n",
        "plt.title('Practice SET')\n",
        "plt.xlabel('Average')\n",
        "plt.ylabel('CPA')\n",
        "plt.plot(xpoints,ypoints, color =  'pink',linewidth = 5, marker = 's', ms = 10 , mfc = 'c')\n",
        "#plt.grid()\n",
        "plt.grid(ls = ':', linewidth = 1)\n",
        "\n",
        "plt.show()"
      ],
      "metadata": {
        "colab": {
          "base_uri": "https://localhost:8080/",
          "height": 295
        },
        "id": "-adi-33SlD9D",
        "outputId": "8b5c7fd0-b181-4df9-bcbc-ac74ebcf1492"
      },
      "execution_count": 7,
      "outputs": [
        {
          "output_type": "display_data",
          "data": {
            "text/plain": [
              "<Figure size 432x288 with 1 Axes>"
            ],
            "image/png": "[encoded data removed]"
          },
          "metadata": {
            "needs_background": "light"
          }
        }
      ]
    },
    {
      "cell_type": "markdown",
      "source": [
        "#The subplot() Function\n",
        "The subplot() function takes three arguments that describes the layout of the figure.\n",
        "\n",
        "The layout is organized in rows and columns, which are represented by the first and second argument.\n",
        "\n",
        "The third argument represents the index of the current plot.\n",
        "\n",
        "##plt.subplot(1, 2, 1)\n",
        "###the figure has 1 row, 2 columns, and this plot is the first plot.\n",
        "\n",
        "##plt.subplot(1, 2, 2)\n",
        "###the figure has 1 row, 2 columns, and this plot is the second plot.\n",
        "So, if we want a figure with 2 rows an 1 column (meaning that the two plots will be displayed on top of each other instead of side-by-side), we can write the syntax like this:\n",
        "\n",
        "##Super Title\n",
        "You can add a title to the entire figure with the **suptitle()** function.\n",
        "\n"
      ],
      "metadata": {
        "id": "TBUUcNg0hyYO"
      }
    },
    {
      "cell_type": "code",
      "source": [
        "import matplotlib.pyplot as plt\n",
        "import numpy as np\n",
        "x = np.array([0,4,8,15,19])\n",
        "y = np.array([2,5,10,15,20])\n",
        "\n",
        "x2 = np.array([1,4,13,7,24])\n",
        "y2 = np.array([3,7,11,15,23])\n",
        "\n",
        "plt.subplot(1,2,1)\n",
        "plt.plot(x,y)\n",
        "\n",
        "\n",
        "plt.subplot(1,2,2)\n",
        "plt.plot(x2,y2)\n",
        "\n",
        "plt.suptitle(\"Practice SET\")\n",
        "plt.show()"
      ],
      "metadata": {
        "colab": {
          "base_uri": "https://localhost:8080/",
          "height": 294
        },
        "id": "dvuiS0Szhb7C",
        "outputId": "e9a2adda-2d5c-457b-916c-7c981af0126d"
      },
      "execution_count": 15,
      "outputs": [
        {
          "output_type": "display_data",
          "data": {
            "text/plain": [
              "<Figure size 432x288 with 2 Axes>"
            ],
            "image/png": "[encoded data removed]"
          },
          "metadata": {
            "needs_background": "light"
          }
        }
      ]
    },
    {
      "cell_type": "markdown",
      "source": [
        "##Creating Scatter Plots\n",
        "With Pyplot, you can use the scatter() function to draw a scatter plot.\n",
        "\n",
        "The scatter() function plots one dot for each observation. It needs two arrays of the same length, one for the values of the x-axis, and one for values on the y-axis"
      ],
      "metadata": {
        "id": "cBhnpIWylwdV"
      }
    },
    {
      "cell_type": "code",
      "source": [
        ""
      ],
      "metadata": {
        "id": "PVAL1GAfl1Rv"
      },
      "execution_count": null,
      "outputs": []
    }
  ]
}