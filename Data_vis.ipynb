{
  "nbformat": 4,
  "nbformat_minor": 0,
  "metadata": {
    "colab": {
      "name": "Data_vis.ipynb",
      "provenance": [],
      "collapsed_sections": [],
      "authorship_tag": "ABX9TyMfT0SGq+kMWaq6t4+PaUuy",
      "include_colab_link": true
    },
    "kernelspec": {
      "name": "python3",
      "display_name": "Python 3"
    },
    "language_info": {
      "name": "python"
    }
  },
  "cells": [
    {
      "cell_type": "markdown",
      "metadata": {
        "id": "view-in-github",
        "colab_type": "text"
      },
      "source": [
        "<a href=\"https://colab.research.google.com/github/ISHaNT-CHaHaR/DSA_bliss/blob/master/Data_vis.ipynb\" target=\"_parent\"><img src=\"https://colab.research.google.com/assets/colab-badge.svg\" alt=\"Open In Colab\"/></a>"
      ]
    },
    {
      "cell_type": "code",
      "source": [
        "from google.colab import drive\n",
        "drive.mount('/content/drive')\n"
      ],
      "metadata": {
        "colab": {
          "base_uri": "https://localhost:8080/"
        },
        "id": "MgmVVoBMRxjK",
        "outputId": "7848accd-b1bb-43c6-fe11-610f7bc4cc65"
      },
      "execution_count": null,
      "outputs": [
        {
          "output_type": "stream",
          "name": "stdout",
          "text": [
            "Mounted at /content/drive\n"
          ]
        }
      ]
    },
    {
      "cell_type": "markdown",
      "source": [
        "It connects my google drive with colab, Now I can access data from drive to use in Colab"
      ],
      "metadata": {
        "id": "bCBi9QEqYhxU"
      }
    },
    {
      "cell_type": "code",
      "source": [
        "import pandas as pd\n",
        "path = \"/content/sample_data/california_housing_test.csv\"\n",
        "df = pd.read_csv(path)\n",
        "df.head(10)\n"
      ],
      "metadata": {
        "id": "JTW0pMijYtxm"
      },
      "execution_count": null,
      "outputs": []
    },
    {
      "cell_type": "markdown",
      "source": [
        "I will work on this dataset or some other by w3schools while working on matplotlib\n"
      ],
      "metadata": {
        "id": "oYAAymdkT32M"
      }
    },
    {
      "cell_type": "code",
      "source": [
        "import matplotlib\n",
        "print(matplotlib.__version__)"
      ],
      "metadata": {
        "colab": {
          "base_uri": "https://localhost:8080/"
        },
        "id": "KRCnhoF_UAZY",
        "outputId": "b5ff6ac7-ecc4-4406-9b9a-718a1664f109"
      },
      "execution_count": null,
      "outputs": [
        {
          "output_type": "stream",
          "name": "stdout",
          "text": [
            "3.2.2\n"
          ]
        }
      ]
    },
    {
      "cell_type": "code",
      "source": [
        "#PYPLOT\n",
        "import matplotlib.pyplot as plt\n",
        "import numpy as np\n",
        "xpoints = np.array([0,5])\n",
        "ypoints = np.array([0,25])\n",
        "\n",
        "plt.plot(xpoints, ypoints)\n",
        "\n",
        "plt.show()"
      ],
      "metadata": {
        "id": "-E9IIW9UURqj"
      },
      "execution_count": null,
      "outputs": []
    },
    {
      "cell_type": "markdown",
      "source": [
        "The plot() function is used to draw points (markers) in a diagram.\n",
        "\n",
        "By default, the plot() function draws a line from point to point.\n",
        "\n",
        "The function takes parameters for specifying points in the diagram.\n",
        "\n",
        "Parameter 1 is an array containing the points on the x-axis.\n",
        "\n",
        "Parameter 2 is an array containing the points on the y-axis.\n",
        "\n",
        "If we need to plot a line from (1, 3) to (8, 10), we have to pass two arrays [1, 8] and [3, 10] to the plot function."
      ],
      "metadata": {
        "id": "7lDk5iqPUy3I"
      }
    },
    {
      "cell_type": "code",
      "source": [
        "import matplotlib.pyplot as plt\n",
        "import numpy as np\n",
        "xpoints = np.array([0,25])\n",
        "ypoints = np.array([0,25])\n",
        "\n",
        "#plot without line \n",
        "plt.plot(xpoints, ypoints, 'o')\n",
        "\n",
        "plt.show()"
      ],
      "metadata": {
        "id": "L2tho4CuUz6C"
      },
      "execution_count": null,
      "outputs": []
    },
    {
      "cell_type": "markdown",
      "source": [
        "As I extend the array, I can plot line at different points. \n"
      ],
      "metadata": {
        "id": "Iur3PODzVeQ6"
      }
    },
    {
      "cell_type": "code",
      "source": [
        "import matplotlib.pyplot as plt\n",
        "import numpy as np\n",
        "xpoints = np.array([0,2,4,8,10])\n",
        "ypoints = np.array([2,5,10,15,20])\n",
        "\n",
        "plt.plot(xpoints,ypoints, marker = 's') ## Majorly I must assign y-points because X can be 1,2,3,4,5 by default\n",
        "plt.show()"
      ],
      "metadata": {
        "id": "xMtsTguwVk1S"
      },
      "execution_count": null,
      "outputs": []
    },
    {
      "cell_type": "markdown",
      "source": [
        "You can use also use the shortcut string notation parameter to specify the marker.\n",
        "\n",
        "This parameter is also called fmt, and is written with this syntax:\n",
        "\n",
        "marker|line|color\n",
        "\n",
        "Line Syntax\tDescription\n",
        "'-'\tSolid line\t\n",
        "':'\tDotted line\t\n",
        "'--'\tDashed line\t\n",
        "'-.'\tDashed/dotted line\n",
        "\n",
        "\n",
        "Color Syntax\tDescription\n",
        "'r'\tRed\t\n",
        "'g'\tGreen\t\n",
        "'b'\tBlue\t\n",
        "'c'\tCyan\t\n",
        "'m'\tMagenta\t\n",
        "'y'\tYellow\t\n",
        "'k'\tBlack\t\n",
        "'w'\tWhite\n",
        "\n",
        "Marker Size\n",
        "You can use the keyword argument markersize or the shorter version, ms to set the size of the markers:\n",
        "\n",
        "Marker Color\n",
        "You can use the keyword argument markeredgecolor or the shorter mec to set the color of the edge of the markers:\n",
        "\n",
        "You can use the keyword argument markerfacecolor or the shorter mfc to set the color inside the edge of the markers:"
      ],
      "metadata": {
        "id": "y4jsQWWWXmPq"
      }
    },
    {
      "cell_type": "code",
      "source": [
        "import matplotlib.pyplot as plt\n",
        "import numpy as np\n",
        "xpoints = np.array([0,2,4,8,10])\n",
        "ypoints = np.array([2,5,10,15,20])\n",
        "\n",
        "#plt.plot(xpoints,ypoints, 's-.m') \n",
        "plt.plot(xpoints, ypoints, marker = 'o',ms = 10, mfc = 'pink')\n",
        "# plt.plot(xpoints, ypoints, 's:c')\n",
        "plt.show()\n"
      ],
      "metadata": {
        "id": "W-WqMiJUXnE0"
      },
      "execution_count": null,
      "outputs": []
    },
    {
      "cell_type": "markdown",
      "source": [
        "Line Styles\n",
        "You can choose any of these styles:\n",
        "'solid' (default)\t'-'\t\n",
        "'dotted'\t':'\t\n",
        "'dashed'\t'--'\t\n",
        "'dashdot'\t'-.'\t\n",
        "'None'\t'' or ' '"
      ],
      "metadata": {
        "id": "DyTNatP_Xvkv"
      }
    },
    {
      "cell_type": "code",
      "source": [
        "import matplotlib.pyplot as plt\n",
        "import numpy as np\n",
        "xpoints = np.array([0,2,4,8,10])\n",
        "ypoints = np.array([2,5,10,15,20])\n",
        "\n",
        "# plt.plot(xpoints,ypoints, linestyle = 'dotted')\n",
        "# or\n",
        "plt.plot(xpoints,ypoints, ls = 'dashed', color = 'pink', marker = 's', ms = 15, mfc = 'c')\n",
        "plt.show()"
      ],
      "metadata": {
        "id": "HA6x8K2ehRXb"
      },
      "execution_count": null,
      "outputs": []
    },
    {
      "cell_type": "markdown",
      "source": [
        "Line Width\n",
        "You can use the keyword argument linewidth or the shorter lw to change the width of the line.\n",
        "\n",
        "The value is a floating number, in points:"
      ],
      "metadata": {
        "id": "9Q-WoG5njWKy"
      }
    },
    {
      "cell_type": "code",
      "source": [
        "import matplotlib.pyplot as plt\n",
        "import numpy as np\n",
        "xpoints = np.array([0,2,4,8,10])\n",
        "ypoints = np.array([2,5,10,15,20])\n",
        "\n",
        "# plt.plot(xpoints,ypoints, linestyle = 'dotted')\n",
        "# or\n",
        "plt.plot(xpoints,ypoints, color =  'pink',linewidth = 5, marker = 's', ms = 20 , mfc = 'c')\n",
        "plt.show()"
      ],
      "metadata": {
        "id": "DU5fQJQcjXO0"
      },
      "execution_count": null,
      "outputs": []
    },
    {
      "cell_type": "markdown",
      "source": [
        "You can also plot many lines by adding the points for the x- and y-axis for each line in the same plt.plot() function.\n",
        "\n",
        "(In the examples above we only specified the points on the y-axis, meaning that the points on the x-axis got the the default values (0, 1, 2, 3).)\n",
        "\n",
        "The x- and y- values come in pairs:"
      ],
      "metadata": {
        "id": "z0KEYTxykLqx"
      }
    },
    {
      "cell_type": "code",
      "source": [
        "import matplotlib.pyplot as plt\n",
        "import numpy as np\n",
        "xpoints = np.array([0,4,8,15,19])\n",
        "ypoints = np.array([2,5,10,15,20])\n",
        "\n",
        "x2 = np.array([1,4,13,7,24])\n",
        "y2 = np.array([3,7,11,15,23])\n",
        "\n",
        "plt.plot(xpoints,ypoints, x2,y2)\n",
        "plt.show()"
      ],
      "metadata": {
        "colab": {
          "base_uri": "https://localhost:8080/",
          "height": 265
        },
        "id": "F3NHHvlckMSE",
        "outputId": "dfd7a01b-d719-4b4c-ea45-79a7e937fdfb"
      },
      "execution_count": null,
      "outputs": [
        {
          "output_type": "display_data",
          "data": {
            "text/plain": [
              "<Figure size 432x288 with 1 Axes>"
            ],
            "image/png": "[encoded data removed]"
          },
          "metadata": {
            "needs_background": "light"
          }
        }
      ]
    },
    {
      "cell_type": "markdown",
      "source": [
        "Create Labels for a Plot\n",
        "With Pyplot, you can use the xlabel() and ylabel() functions to set a label for the x- and y-axis."
      ],
      "metadata": {
        "id": "4Fl4o5nmlCCq"
      }
    },
    {
      "cell_type": "code",
      "source": [
        "import matplotlib.pyplot as plt\n",
        "import numpy as np\n",
        "xpoints = np.array([0,2,4,8,10])\n",
        "ypoints = np.array([2,5,10,15,20])\n",
        "\n",
        "# plt.plot(xpoints,ypoints)\n",
        "plt.title('Practice SET')\n",
        "plt.xlabel('Average')\n",
        "plt.ylabel('CPA')\n",
        "plt.plot(xpoints,ypoints, color =  'pink',linewidth = 5, marker = 's', ms = 10 , mfc = 'c')\n",
        "#plt.grid()\n",
        "plt.grid(ls = ':', linewidth = 1)\n",
        "\n",
        "plt.show()"
      ],
      "metadata": {
        "colab": {
          "base_uri": "https://localhost:8080/",
          "height": 295
        },
        "id": "-adi-33SlD9D",
        "outputId": "8b5c7fd0-b181-4df9-bcbc-ac74ebcf1492"
      },
      "execution_count": null,
      "outputs": [
        {
          "output_type": "display_data",
          "data": {
            "text/plain": [
              "<Figure size 432x288 with 1 Axes>"
            ],
            "image/png": "[encoded data removed]"
          },
          "metadata": {
            "needs_background": "light"
          }
        }
      ]
    },
    {
      "cell_type": "markdown",
      "source": [
        "#The subplot() Function\n",
        "The subplot() function takes three arguments that describes the layout of the figure.\n",
        "\n",
        "The layout is organized in rows and columns, which are represented by the first and second argument.\n",
        "\n",
        "The third argument represents the index of the current plot.\n",
        "\n",
        "##plt.subplot(1, 2, 1)\n",
        "###the figure has 1 row, 2 columns, and this plot is the first plot.\n",
        "\n",
        "##plt.subplot(1, 2, 2)\n",
        "###the figure has 1 row, 2 columns, and this plot is the second plot.\n",
        "So, if we want a figure with 2 rows an 1 column (meaning that the two plots will be displayed on top of each other instead of side-by-side), we can write the syntax like this:\n",
        "\n",
        "##Super Title\n",
        "You can add a title to the entire figure with the **suptitle()** function.\n",
        "\n"
      ],
      "metadata": {
        "id": "TBUUcNg0hyYO"
      }
    },
    {
      "cell_type": "code",
      "source": [
        "import matplotlib.pyplot as plt\n",
        "import numpy as np\n",
        "x = np.array([0,4,8,15,19])\n",
        "y = np.array([2,5,10,15,20])\n",
        "\n",
        "x2 = np.array([1,4,13,7,24])\n",
        "y2 = np.array([3,7,11,15,23])\n",
        "\n",
        "plt.subplot(1,2,1)\n",
        "plt.plot(x,y)\n",
        "\n",
        "\n",
        "plt.subplot(1,2,2)\n",
        "plt.plot(x2,y2)\n",
        "\n",
        "plt.suptitle(\"Practice SET\")\n",
        "plt.show()"
      ],
      "metadata": {
        "colab": {
          "base_uri": "https://localhost:8080/",
          "height": 294
        },
        "id": "dvuiS0Szhb7C",
        "outputId": "e9a2adda-2d5c-457b-916c-7c981af0126d"
      },
      "execution_count": null,
      "outputs": [
        {
          "output_type": "display_data",
          "data": {
            "text/plain": [
              "<Figure size 432x288 with 2 Axes>"
            ],
            "image/png": "[encoded data removed]"
          },
          "metadata": {
            "needs_background": "light"
          }
        }
      ]
    },
    {
      "cell_type": "markdown",
      "source": [
        "##Creating Scatter Plots\n",
        "With Pyplot, you can use the scatter() function to draw a scatter plot.\n",
        "\n",
        "The scatter() function plots one dot for each observation. It needs two arrays of the same length, one for the values of the x-axis, and one for values on the y-axis\n",
        "\n",
        "###Colors\n",
        "You can set your own color for each scatter plot with the color or the c argument\n",
        "\n",
        "###Alpha\n",
        "You can adjust the transparency of the dots with the alpha argument.\n",
        "\n",
        "Just like colors, make sure the array for sizes has the same length as the arrays for the x- and y-axis"
      ],
      "metadata": {
        "id": "cBhnpIWylwdV"
      }
    },
    {
      "cell_type": "code",
      "source": [
        "import numpy as np\n",
        "import matplotlib.pyplot as plt\n",
        "\n",
        "x = np.array([5,7,8,7,2,17,2,9,4,11,12,9,6])\n",
        "y = np.array([99,86,87,88,111,86,103,87,94,78,77,85,86])\n",
        "plt.scatter(x,y , color = 'pink',s = 110, alpha = 0.5)\n",
        "\n",
        "x = np.array([2,2,8,1,15,8,12,9,7,3,11,4,7,14,12])\n",
        "y = np.array([100,105,84,105,90,99,90,95,94,100,79,112,91,80,85])\n",
        "plt.scatter(x, y, color = 'g',alpha=0.5, s = 110)"
      ],
      "metadata": {
        "colab": {
          "base_uri": "https://localhost:8080/",
          "height": 282
        },
        "id": "PVAL1GAfl1Rv",
        "outputId": "a0d9fe0b-21ac-4403-b3e6-fc09dfcfdce2"
      },
      "execution_count": null,
      "outputs": [
        {
          "output_type": "execute_result",
          "data": {
            "text/plain": [
              "<matplotlib.collections.PathCollection at 0x7f792ec87c10>"
            ]
          },
          "metadata": {},
          "execution_count": 32
        },
        {
          "output_type": "display_data",
          "data": {
            "text/plain": [
              "<Figure size 432x288 with 1 Axes>"
            ],
            "image/png": "[encoded data removed]"
          },
          "metadata": {
            "needs_background": "light"
          }
        }
      ]
    },
    {
      "cell_type": "markdown",
      "source": [
        "#Creating Bars\n",
        "With Pyplot, you can use the bar() function to draw bar graphs\n",
        "\n"
      ],
      "metadata": {
        "id": "Ym3HF8e5qbVq"
      }
    },
    {
      "cell_type": "code",
      "source": [
        "import matplotlib.pyplot as plt\n",
        "import numpy as np\n",
        "\n",
        "x = np.array([\"A\",\"B\",\"C\",\"D\"])\n",
        "y = np.array([2,6,4,10])\n",
        "\n",
        "plt.subplot(1,2,1)\n",
        "plt.bar(x,y, color = 'pink',width = 1.1)\n",
        "\n",
        "plt.subplot(1,2,2)\n",
        "plt.barh(x,y,color='pink',height = 0.5)\n",
        "\n",
        "plt.suptitle('Practice SET')\n",
        "plt.show()\n"
      ],
      "metadata": {
        "colab": {
          "base_uri": "https://localhost:8080/",
          "height": 294
        },
        "id": "jkvkhXnXqi1A",
        "outputId": "192cbb74-ba09-43c3-e484-39ff12ecad37"
      },
      "execution_count": null,
      "outputs": [
        {
          "output_type": "display_data",
          "data": {
            "text/plain": [
              "<Figure size 432x288 with 2 Axes>"
            ],
            "image/png": "[encoded data removed]"
          },
          "metadata": {
            "needs_background": "light"
          }
        }
      ]
    },
    {
      "cell_type": "markdown",
      "source": [
        "#Histogram\n",
        "A histogram is a graph showing frequency distributions.\n",
        "\n",
        "It is a graph showing the number of observations within each given interval.\n",
        "\n",
        "Example: Say you ask for the height of 250 people, you might end up with a histogram like this.\n",
        "\n",
        "#Create Histogram\n",
        "In Matplotlib, we use the hist() function to create histograms.\n",
        "\n",
        "The hist() function will use an array of numbers to create a histogram, the array is sent into the function as an argument."
      ],
      "metadata": {
        "id": "0vM7bRDctqjd"
      }
    },
    {
      "cell_type": "code",
      "source": [
        "import numpy as np\n",
        "import matplotlib.pyplot as plt\n",
        "\n",
        "x = np.random.normal(200,10,250) # mean, SD and Number of values you want.\n",
        "plt.hist(x)\n",
        "\n",
        "plt.show()"
      ],
      "metadata": {
        "id": "IlS_uZf2t4HM"
      },
      "execution_count": null,
      "outputs": []
    },
    {
      "cell_type": "markdown",
      "source": [
        "#Creating Pie Charts\n",
        "With Pyplot, you can use the pie() function to draw pie charts\n",
        "\n"
      ],
      "metadata": {
        "id": "5af6VEDUul3x"
      }
    },
    {
      "cell_type": "code",
      "source": [
        "import matplotlib.pyplot as plt\n",
        "import numpy as np\n",
        "\n",
        "x = np.array([30,20,15,35])\n",
        "label = [\"A\",\"B\",\"C\",\"D\"]\n",
        "colors = [\"pink\", \"black\", 'c', 'w']\n",
        "myexplode = [0.25,0,0,0]\n",
        "\n",
        "plt.pie(x, labels = label, explode = myexplode , shadow = True, colors = colors)\n",
        "plt.legend()\n",
        "plt.show()"
      ],
      "metadata": {
        "id": "u7S6a1tDvZDE"
      },
      "execution_count": null,
      "outputs": []
    },
    {
      "cell_type": "markdown",
      "source": [
        "#Offline Dataset\n",
        "Working with offline data set in pandas and matplotlib\n"
      ],
      "metadata": {
        "id": "w6HXOCH8zF9A"
      }
    },
    {
      "cell_type": "code",
      "source": [
        "import numpy as np\n",
        "import matplotlib.pyplot as plt\n",
        "from google.colab import files\n",
        "import io\n",
        "import pandas as pd\n",
        "\n",
        "data = files.upload()"
      ],
      "metadata": {
        "id": "GXx7ZClIy31A",
        "colab": {
          "resources": {
            "http://localhost:8080/nbextensions/google.colab/files.js": {
              "data": "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",
              "ok": true,
              "headers": [
                [
                  "content-type",
                  "application/javascript"
                ]
              ],
              "status": 200,
              "status_text": ""
            }
          },
          "base_uri": "https://localhost:8080/",
          "height": 74
        },
        "outputId": "a003455f-6a64-48a7-97f1-20d95f0375a1"
      },
      "execution_count": 22,
      "outputs": [
        {
          "output_type": "display_data",
          "data": {
            "text/plain": [
              "<IPython.core.display.HTML object>"
            ],
            "text/html": [
              "\n",
              "     <input type=\"file\" id=\"files-f4a359d7-a91e-492c-848c-0b803ca227eb\" name=\"files[]\" multiple disabled\n",
              "        style=\"border:none\" />\n",
              "     <output id=\"result-f4a359d7-a91e-492c-848c-0b803ca227eb\">\n",
              "      Upload widget is only available when the cell has been executed in the\n",
              "      current browser session. Please rerun this cell to enable.\n",
              "      </output>\n",
              "      <script src=\"/nbextensions/google.colab/files.js\"></script> "
            ]
          },
          "metadata": {}
        },
        {
          "output_type": "stream",
          "name": "stdout",
          "text": [
            "Saving data.csv to data (1).csv\n"
          ]
        }
      ]
    },
    {
      "cell_type": "code",
      "source": [
        "df = pd.read_csv('data.csv')"
      ],
      "metadata": {
        "id": "oawtW6KPPWPg"
      },
      "execution_count": 23,
      "outputs": []
    },
    {
      "cell_type": "code",
      "source": [
        "#df.head()\n",
        "age =  df.Age\n",
        "\n",
        "age = np.array(age)\n",
        "print(age)\n",
        "\n",
        "df.head()\n",
        "# df.CampaignID()"
      ],
      "metadata": {
        "colab": {
          "base_uri": "https://localhost:8080/",
          "height": 913
        },
        "id": "2YHeBzXrPmIs",
        "outputId": "ace75c91-bc59-4d8a-906f-df769a92812b"
      },
      "execution_count": 31,
      "outputs": [
        {
          "output_type": "stream",
          "name": "stdout",
          "text": [
            "['45-54' '35-44' '55-64' '25-34' '13-17' '25-34' '13-17' '25-34' '18-24'\n",
            " '13-17' '18-24' '18-24' '13-17' '13-17' '18-24' '13-17' '25-34' '18-24'\n",
            " '25-34' '18-24' '13-17' '18-24' '25-34' '25-34' '25-34' '18-24' '13-17'\n",
            " '18-24' '25-34' '13-17' '25-34' '18-24' '25-34']\n"
          ]
        },
        {
          "output_type": "execute_result",
          "data": {
            "text/plain": [
              "  Campaign ID                     Campaign Name                  Audience  \\\n",
              "0  Campaign 1  SHU_6 (Educators and Principals)  Educators and Principals   \n",
              "1  Campaign 1  SHU_6 (Educators and Principals)  Educators and Principals   \n",
              "2  Campaign 1  SHU_6 (Educators and Principals)  Educators and Principals   \n",
              "3  Campaign 1  SHU_6 (Educators and Principals)  Educators and Principals   \n",
              "4  Campaign 2            SHU_Students (Nigeria)                  Students   \n",
              "\n",
              "     Age                                          Geography  Reach(unique)  \\\n",
              "0  45-54  Group 1 (Australia, Canada, United Kingdom, Gh...           2867   \n",
              "1  35-44  Group 1 (Australia, Canada, United Kingdom, Gh...           8761   \n",
              "2  55-64  Group 1 (Australia, Canada, United Kingdom, Gh...            889   \n",
              "3  25-34  Group 1 (Australia, Canada, United Kingdom, Gh...          11387   \n",
              "4  13-17                                            Nigeria           8516   \n",
              "\n",
              "   Impressions(with dupes)  Frequency  Clicks(with dupes)  Unique Clicks  \\\n",
              "0                     6283   2.191489                 198            145   \n",
              "1                    15683   1.790092                 484            376   \n",
              "2                     1890   2.125984                  49             40   \n",
              "3                    23283   2.044700                 487            406   \n",
              "4                    12372   1.452795                 970            696   \n",
              "\n",
              "   Unique Link Clicks (ULC)  Click-Through Rate (CTR)  \\\n",
              "0                        65                  3.151361   \n",
              "1                       154                  3.086144   \n",
              "2                        21                  2.592593   \n",
              "3                       180                  2.091655   \n",
              "4                       408                  7.840285   \n",
              "\n",
              "   Unique Click-Through Rate (Unique CTR)  Amount Spent in INR  \\\n",
              "0                                5.057551               319.38   \n",
              "1                                4.291748               835.46   \n",
              "2                                4.499438                86.25   \n",
              "3                                3.565469              1092.24   \n",
              "4                                8.172851               282.21   \n",
              "\n",
              "   Cost Per Click (CPC)  Cost per Result (CPR)  \n",
              "0              1.613038                   4.91  \n",
              "1              1.726165                   5.43  \n",
              "2              1.760117                   4.11  \n",
              "3              2.242790                   6.07  \n",
              "4              0.290938                   0.69  "
            ],
            "text/html": [
              "\n",
              "  <div id=\"df-90efb3c7-b0b7-4c40-933e-76bb48f4e434\">\n",
              "    <div class=\"colab-df-container\">\n",
              "      <div>\n",
              "<style scoped>\n",
              "    .dataframe tbody tr th:only-of-type {\n",
              "        vertical-align: middle;\n",
              "    }\n",
              "\n",
              "    .dataframe tbody tr th {\n",
              "        vertical-align: top;\n",
              "    }\n",
              "\n",
              "    .dataframe thead th {\n",
              "        text-align: right;\n",
              "    }\n",
              "</style>\n",
              "<table border=\"1\" class=\"dataframe\">\n",
              "  <thead>\n",
              "    <tr style=\"text-align: right;\">\n",
              "      <th></th>\n",
              "      <th>Campaign ID</th>\n",
              "      <th>Campaign Name</th>\n",
              "      <th>Audience</th>\n",
              "      <th>Age</th>\n",
              "      <th>Geography</th>\n",
              "      <th>Reach(unique)</th>\n",
              "      <th>Impressions(with dupes)</th>\n",
              "      <th>Frequency</th>\n",
              "      <th>Clicks(with dupes)</th>\n",
              "      <th>Unique Clicks</th>\n",
              "      <th>Unique Link Clicks (ULC)</th>\n",
              "      <th>Click-Through Rate (CTR)</th>\n",
              "      <th>Unique Click-Through Rate (Unique CTR)</th>\n",
              "      <th>Amount Spent in INR</th>\n",
              "      <th>Cost Per Click (CPC)</th>\n",
              "      <th>Cost per Result (CPR)</th>\n",
              "    </tr>\n",
              "  </thead>\n",
              "  <tbody>\n",
              "    <tr>\n",
              "      <th>0</th>\n",
              "      <td>Campaign 1</td>\n",
              "      <td>SHU_6 (Educators and Principals)</td>\n",
              "      <td>Educators and Principals</td>\n",
              "      <td>45-54</td>\n",
              "      <td>Group 1 (Australia, Canada, United Kingdom, Gh...</td>\n",
              "      <td>2867</td>\n",
              "      <td>6283</td>\n",
              "      <td>2.191489</td>\n",
              "      <td>198</td>\n",
              "      <td>145</td>\n",
              "      <td>65</td>\n",
              "      <td>3.151361</td>\n",
              "      <td>5.057551</td>\n",
              "      <td>319.38</td>\n",
              "      <td>1.613038</td>\n",
              "      <td>4.91</td>\n",
              "    </tr>\n",
              "    <tr>\n",
              "      <th>1</th>\n",
              "      <td>Campaign 1</td>\n",
              "      <td>SHU_6 (Educators and Principals)</td>\n",
              "      <td>Educators and Principals</td>\n",
              "      <td>35-44</td>\n",
              "      <td>Group 1 (Australia, Canada, United Kingdom, Gh...</td>\n",
              "      <td>8761</td>\n",
              "      <td>15683</td>\n",
              "      <td>1.790092</td>\n",
              "      <td>484</td>\n",
              "      <td>376</td>\n",
              "      <td>154</td>\n",
              "      <td>3.086144</td>\n",
              "      <td>4.291748</td>\n",
              "      <td>835.46</td>\n",
              "      <td>1.726165</td>\n",
              "      <td>5.43</td>\n",
              "    </tr>\n",
              "    <tr>\n",
              "      <th>2</th>\n",
              "      <td>Campaign 1</td>\n",
              "      <td>SHU_6 (Educators and Principals)</td>\n",
              "      <td>Educators and Principals</td>\n",
              "      <td>55-64</td>\n",
              "      <td>Group 1 (Australia, Canada, United Kingdom, Gh...</td>\n",
              "      <td>889</td>\n",
              "      <td>1890</td>\n",
              "      <td>2.125984</td>\n",
              "      <td>49</td>\n",
              "      <td>40</td>\n",
              "      <td>21</td>\n",
              "      <td>2.592593</td>\n",
              "      <td>4.499438</td>\n",
              "      <td>86.25</td>\n",
              "      <td>1.760117</td>\n",
              "      <td>4.11</td>\n",
              "    </tr>\n",
              "    <tr>\n",
              "      <th>3</th>\n",
              "      <td>Campaign 1</td>\n",
              "      <td>SHU_6 (Educators and Principals)</td>\n",
              "      <td>Educators and Principals</td>\n",
              "      <td>25-34</td>\n",
              "      <td>Group 1 (Australia, Canada, United Kingdom, Gh...</td>\n",
              "      <td>11387</td>\n",
              "      <td>23283</td>\n",
              "      <td>2.044700</td>\n",
              "      <td>487</td>\n",
              "      <td>406</td>\n",
              "      <td>180</td>\n",
              "      <td>2.091655</td>\n",
              "      <td>3.565469</td>\n",
              "      <td>1092.24</td>\n",
              "      <td>2.242790</td>\n",
              "      <td>6.07</td>\n",
              "    </tr>\n",
              "    <tr>\n",
              "      <th>4</th>\n",
              "      <td>Campaign 2</td>\n",
              "      <td>SHU_Students (Nigeria)</td>\n",
              "      <td>Students</td>\n",
              "      <td>13-17</td>\n",
              "      <td>Nigeria</td>\n",
              "      <td>8516</td>\n",
              "      <td>12372</td>\n",
              "      <td>1.452795</td>\n",
              "      <td>970</td>\n",
              "      <td>696</td>\n",
              "      <td>408</td>\n",
              "      <td>7.840285</td>\n",
              "      <td>8.172851</td>\n",
              "      <td>282.21</td>\n",
              "      <td>0.290938</td>\n",
              "      <td>0.69</td>\n",
              "    </tr>\n",
              "  </tbody>\n",
              "</table>\n",
              "</div>\n",
              "      <button class=\"colab-df-convert\" onclick=\"convertToInteractive('df-90efb3c7-b0b7-4c40-933e-76bb48f4e434')\"\n",
              "              title=\"Convert this dataframe to an interactive table.\"\n",
              "              style=\"display:none;\">\n",
              "        \n",
              "  <svg xmlns=\"http://www.w3.org/2000/svg\" height=\"24px\"viewBox=\"0 0 24 24\"\n",
              "       width=\"24px\">\n",
              "    <path d=\"M0 0h24v24H0V0z\" fill=\"none\"/>\n",
              "    <path d=\"M18.56 5.44l.94 2.06.94-2.06 2.06-.94-2.06-.94-.94-2.06-.94 2.06-2.06.94zm-11 1L8.5 8.5l.94-2.06 2.06-.94-2.06-.94L8.5 2.5l-.94 2.06-2.06.94zm10 10l.94 2.06.94-2.06 2.06-.94-2.06-.94-.94-2.06-.94 2.06-2.06.94z\"/><path d=\"M17.41 7.96l-1.37-1.37c-.4-.4-.92-.59-1.43-.59-.52 0-1.04.2-1.43.59L10.3 9.45l-7.72 7.72c-.78.78-.78 2.05 0 2.83L4 21.41c.39.39.9.59 1.41.59.51 0 1.02-.2 1.41-.59l7.78-7.78 2.81-2.81c.8-.78.8-2.07 0-2.86zM5.41 20L4 18.59l7.72-7.72 1.47 1.35L5.41 20z\"/>\n",
              "  </svg>\n",
              "      </button>\n",
              "      \n",
              "  <style>\n",
              "    .colab-df-container {\n",
              "      display:flex;\n",
              "      flex-wrap:wrap;\n",
              "      gap: 12px;\n",
              "    }\n",
              "\n",
              "    .colab-df-convert {\n",
              "      background-color: #E8F0FE;\n",
              "      border: none;\n",
              "      border-radius: 50%;\n",
              "      cursor: pointer;\n",
              "      display: none;\n",
              "      fill: #1967D2;\n",
              "      height: 32px;\n",
              "      padding: 0 0 0 0;\n",
              "      width: 32px;\n",
              "    }\n",
              "\n",
              "    .colab-df-convert:hover {\n",
              "      background-color: #E2EBFA;\n",
              "      box-shadow: 0px 1px 2px rgba(60, 64, 67, 0.3), 0px 1px 3px 1px rgba(60, 64, 67, 0.15);\n",
              "      fill: #174EA6;\n",
              "    }\n",
              "\n",
              "    [theme=dark] .colab-df-convert {\n",
              "      background-color: #3B4455;\n",
              "      fill: #D2E3FC;\n",
              "    }\n",
              "\n",
              "    [theme=dark] .colab-df-convert:hover {\n",
              "      background-color: #434B5C;\n",
              "      box-shadow: 0px 1px 3px 1px rgba(0, 0, 0, 0.15);\n",
              "      filter: drop-shadow(0px 1px 2px rgba(0, 0, 0, 0.3));\n",
              "      fill: #FFFFFF;\n",
              "    }\n",
              "  </style>\n",
              "\n",
              "      <script>\n",
              "        const buttonEl =\n",
              "          document.querySelector('#df-90efb3c7-b0b7-4c40-933e-76bb48f4e434 button.colab-df-convert');\n",
              "        buttonEl.style.display =\n",
              "          google.colab.kernel.accessAllowed ? 'block' : 'none';\n",
              "\n",
              "        async function convertToInteractive(key) {\n",
              "          const element = document.querySelector('#df-90efb3c7-b0b7-4c40-933e-76bb48f4e434');\n",
              "          const dataTable =\n",
              "            await google.colab.kernel.invokeFunction('convertToInteractive',\n",
              "                                                     [key], {});\n",
              "          if (!dataTable) return;\n",
              "\n",
              "          const docLinkHtml = 'Like what you see? Visit the ' +\n",
              "            '<a target=\"_blank\" href=https://colab.research.google.com/notebooks/data_table.ipynb>data table notebook</a>'\n",
              "            + ' to learn more about interactive tables.';\n",
              "          element.innerHTML = '';\n",
              "          dataTable['output_type'] = 'display_data';\n",
              "          await google.colab.output.renderOutput(dataTable, element);\n",
              "          const docLink = document.createElement('div');\n",
              "          docLink.innerHTML = docLinkHtml;\n",
              "          element.appendChild(docLink);\n",
              "        }\n",
              "      </script>\n",
              "    </div>\n",
              "  </div>\n",
              "  "
            ]
          },
          "metadata": {},
          "execution_count": 31
        }
      ]
    },
    {
      "cell_type": "markdown",
      "source": [
        ""
      ],
      "metadata": {
        "id": "ZBXFg00szE-e"
      }
    }
  ]
}