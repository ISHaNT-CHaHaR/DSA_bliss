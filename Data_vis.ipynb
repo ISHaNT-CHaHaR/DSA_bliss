{
  "nbformat": 4,
  "nbformat_minor": 0,
  "metadata": {
    "colab": {
      "name": "Data_vis.ipynb",
      "provenance": [],
      "authorship_tag": "ABX9TyOTcpwW6vx8V2Fh+agl97bn",
      "include_colab_link": true
    },
    "kernelspec": {
      "name": "python3",
      "display_name": "Python 3"
    },
    "language_info": {
      "name": "python"
    }
  },
  "cells": [
    {
      "cell_type": "markdown",
      "metadata": {
        "id": "view-in-github",
        "colab_type": "text"
      },
      "source": [
        "<a href=\"https://colab.research.google.com/github/ISHaNT-CHaHaR/DSA_bliss/blob/bliss/Data_vis.ipynb\" target=\"_parent\"><img src=\"https://colab.research.google.com/assets/colab-badge.svg\" alt=\"Open In Colab\"/></a>"
      ]
    },
    {
      "cell_type": "code",
      "source": [
        "import numpy as np\n",
        "x = np.array([1,2,3,4,5,6])\n",
        "print(x)"
      ],
      "metadata": {
        "id": "MgmVVoBMRxjK"
      },
      "execution_count": null,
      "outputs": []
    }
  ]
}